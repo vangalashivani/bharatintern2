{
  "nbformat": 4,
  "nbformat_minor": 0,
  "metadata": {
    "colab": {
      "provenance": []
    },
    "kernelspec": {
      "name": "python3",
      "display_name": "Python 3"
    },
    "language_info": {
      "name": "python"
    }
  },
  "cells": [
    {
      "cell_type": "code",
      "execution_count": null,
      "metadata": {
        "id": "l4Ldz-SH76wV"
      },
      "outputs": [],
      "source": [
        "import textdistance\n",
        "\n",
        "def correct_or_nearest_word(word, word_list):\n",
        "    min_distance = float('inf')\n",
        "    closest_word = None\n",
        "\n",
        "    for candidate in word_list:\n",
        "        distance = textdistance.levenshtein.normalized_similarity(word, candidate)\n",
        "        if distance < min_distance:\n",
        "            min_distance = distance\n",
        "            closest_word = candidate\n",
        "\n",
        "    return closest_word\n",
        "\n",
        "# Sample word list for demonstration\n",
        "word_list = [\"apple\", \"banana\", \"orange\", \"pear\", \"grape\"]\n",
        "\n",
        "# Test the function with a misspelled word\n",
        "misspelled_word = \"aplpe\"\n",
        "corrected_word = correct_or_nearest_word(misspelled_word, word_list)\n",
        "print(f\"Original word: {misspelled_word}\")\n",
        "print(f\"Corrected word: {corrected_word}\")"
      ]
    }
  ]
}